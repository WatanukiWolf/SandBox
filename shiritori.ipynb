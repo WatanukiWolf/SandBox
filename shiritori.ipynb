{
 "cells": [
  {
   "cell_type": "code",
   "execution_count": 63,
   "metadata": {},
   "outputs": [],
   "source": [
    "spells = [\"イアラ\",\"ウェイト\",\"オメガロ\",\"ガルヒ\",\"ガングリオンズ\",\"クリオ\",\"ジェノバ\",\"スノウガ\",\"ズビズバ\",\"スペシウム\",\"タグアズ\",\"ドドンパ\",\"トルネ\",\"ネメシス\",\"バイナリル\",\"ハザード\",\"パリピファイア\",\"バルース\",\"ヒラケゴマ\",\"フェイク\",\"プリズマ\",\"ホルーガ\",\"マッハ\",\"マホマホ\",\"ムート\",\"ラリホフ\",\"ランス\",\"ループ\",\"ロールウェイブ\",\"ワロス\"]"
   ]
  },
  {
   "cell_type": "code",
   "execution_count": 64,
   "metadata": {},
   "outputs": [
    {
     "data": {
      "text/plain": [
       "True"
      ]
     },
     "execution_count": 64,
     "metadata": {},
     "output_type": "execute_result"
    }
   ],
   "source": [
    "# ダブりチェック\n",
    "cnt = 0\n",
    "for i in spells:\n",
    "    for j in spells:\n",
    "        if i == j:\n",
    "            cnt += 1\n",
    "\n",
    "cnt == len(spells)"
   ]
  },
  {
   "cell_type": "code",
   "execution_count": 65,
   "metadata": {},
   "outputs": [],
   "source": [
    "def next_spells(spell, spells):\n",
    "    ans = []\n",
    "    for i in spells:\n",
    "        if spell != i and spell[-1] == i[0]:\n",
    "            ans.append(i)\n",
    "    return ans"
   ]
  },
  {
   "cell_type": "code",
   "execution_count": 66,
   "metadata": {},
   "outputs": [],
   "source": [
    "def remove_all(array, els):\n",
    "    for i in els:\n",
    "        array.remove(i.name) if i.name in array else ..."
   ]
  },
  {
   "cell_type": "code",
   "execution_count": 72,
   "metadata": {},
   "outputs": [],
   "source": [
    "from collections import namedtuple\n",
    "\n",
    "def spell(name, no_more_succ, first_child):\n",
    "    ans = namedtuple(\"spell\", field_names=[\"name\", \"no_more_succ\", \"first_child\"])\n",
    "    ans.name = name\n",
    "    ans.no_more_succ = no_more_succ\n",
    "    ans.first_child = first_child\n",
    "    return ans\n",
    "\n",
    "def trim_track(track):\n",
    "    cnt = 0\n",
    "    while len(track) > 0:\n",
    "        if track[-1].no_more_succ:\n",
    "            track.pop(-1)\n",
    "            cnt += 1\n",
    "        else:\n",
    "            break\n",
    "    return cnt\n",
    "\n",
    "def print_shiritori(indices, spells):\n",
    "    ans = []\n",
    "    for i in indices:\n",
    "        ans.append(spells[i])\n",
    "    print(ans)\n",
    "\n",
    "def shiritori_owari(track, length):\n",
    "    ans = []\n",
    "    for i in track:\n",
    "        ans.append(spells.index(i.name))\n",
    "    print(\"しりとりの長さ:{}\".format(length))\n",
    "    return ans\n",
    "\n",
    "def shiritori(head, spells):\n",
    "    length = 0\n",
    "    pool = spells.copy()\n",
    "    track = []\n",
    "    succ = [spell(head, False, False)]\n",
    "    while len(succ) != 0:\n",
    "        s = succ.pop(-1)\n",
    "        if s.first_child:\n",
    "            track[-1].no_more_succ = True\n",
    "        track.append(s)\n",
    "        length += 1\n",
    "        ns = next_spells(s.name, spells)\n",
    "        remove_all(ns, track)\n",
    "        if len(ns) == 0:\n",
    "            if length >= 20:\n",
    "                print_shiritori(shiritori_owari(track, length), spells)\n",
    "            track.pop(-1)\n",
    "            length -= trim_track(track) + 1\n",
    "        else:\n",
    "            flg = True\n",
    "            for i in ns:\n",
    "                succ.append(spell(i, False, flg))\n",
    "                flg = False\n",
    "            "
   ]
  },
  {
   "cell_type": "code",
   "execution_count": 73,
   "metadata": {},
   "outputs": [
    {
     "name": "stdout",
     "output_type": "stream",
     "text": [
      "しりとりの長さ:20\n",
      "['イアラ', 'ランス', 'スペシウム', 'ムート', 'トルネ', 'ネメシス', 'スノウガ', 'ガングリオンズ', 'ズビズバ', 'バイナリル', 'ループ', 'プリズマ', 'マホマホ', 'ホルーガ', 'ガルヒ', 'ヒラケゴマ', 'マッハ', 'ハザード', 'ドドンパ', 'パリピファイア']\n",
      "しりとりの長さ:20\n",
      "['イアラ', 'ランス', 'スペシウム', 'ムート', 'トルネ', 'ネメシス', 'スノウガ', 'ガルヒ', 'ヒラケゴマ', 'マホマホ', 'ホルーガ', 'ガングリオンズ', 'ズビズバ', 'バイナリル', 'ループ', 'プリズマ', 'マッハ', 'ハザード', 'ドドンパ', 'パリピファイア']\n"
     ]
    }
   ],
   "source": [
    "shiritori(spells[0], spells)"
   ]
  },
  {
   "cell_type": "code",
   "execution_count": 74,
   "metadata": {},
   "outputs": [
    {
     "name": "stdout",
     "output_type": "stream",
     "text": [
      "しりとりの長さ:20\n",
      "['イアラ', 'ランス', 'スペシウム', 'ムート', 'トルネ', 'ネメシス', 'スノウガ', 'ガングリオンズ', 'ズビズバ', 'バイナリル', 'ループ', 'プリズマ', 'マホマホ', 'ホルーガ', 'ガルヒ', 'ヒラケゴマ', 'マッハ', 'ハザード', 'ドドンパ', 'パリピファイア']\n",
      "しりとりの長さ:20\n",
      "['イアラ', 'ランス', 'スペシウム', 'ムート', 'トルネ', 'ネメシス', 'スノウガ', 'ガルヒ', 'ヒラケゴマ', 'マホマホ', 'ホルーガ', 'ガングリオンズ', 'ズビズバ', 'バイナリル', 'ループ', 'プリズマ', 'マッハ', 'ハザード', 'ドドンパ', 'パリピファイア']\n",
      "しりとりの長さ:20\n",
      "['ジェノバ', 'バルース', 'スペシウム', 'ムート', 'トルネ', 'ネメシス', 'スノウガ', 'ガングリオンズ', 'ズビズバ', 'バイナリル', 'ループ', 'プリズマ', 'マホマホ', 'ホルーガ', 'ガルヒ', 'ヒラケゴマ', 'マッハ', 'ハザード', 'ドドンパ', 'パリピファイア']\n",
      "しりとりの長さ:20\n",
      "['ジェノバ', 'バルース', 'スペシウム', 'ムート', 'トルネ', 'ネメシス', 'スノウガ', 'ガルヒ', 'ヒラケゴマ', 'マホマホ', 'ホルーガ', 'ガングリオンズ', 'ズビズバ', 'バイナリル', 'ループ', 'プリズマ', 'マッハ', 'ハザード', 'ドドンパ', 'パリピファイア']\n",
      "しりとりの長さ:20\n",
      "['ジェノバ', 'バイナリル', 'ループ', 'プリズマ', 'マホマホ', 'ホルーガ', 'ガングリオンズ', 'ズビズバ', 'バルース', 'スペシウム', 'ムート', 'トルネ', 'ネメシス', 'スノウガ', 'ガルヒ', 'ヒラケゴマ', 'マッハ', 'ハザード', 'ドドンパ', 'パリピファイア']\n"
     ]
    }
   ],
   "source": [
    "for head in spells:\n",
    "    shiritori(head, spells)"
   ]
  }
 ],
 "metadata": {
  "kernelspec": {
   "display_name": "Python 3",
   "language": "python",
   "name": "python3"
  },
  "language_info": {
   "codemirror_mode": {
    "name": "ipython",
    "version": 3
   },
   "file_extension": ".py",
   "mimetype": "text/x-python",
   "name": "python",
   "nbconvert_exporter": "python",
   "pygments_lexer": "ipython3",
   "version": "3.6.5"
  }
 },
 "nbformat": 4,
 "nbformat_minor": 2
}
